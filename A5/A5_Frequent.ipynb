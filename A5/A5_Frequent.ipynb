{
  "nbformat": 4,
  "nbformat_minor": 0,
  "metadata": {
    "colab": {
      "provenance": []
    },
    "kernelspec": {
      "name": "python3",
      "display_name": "Python 3"
    },
    "language_info": {
      "name": "python"
    }
  },
  "cells": [
    {
      "cell_type": "code",
      "execution_count": null,
      "metadata": {
        "id": "lQtKldXWLvgC"
      },
      "outputs": [],
      "source": [
        "import numpy as np"
      ]
    },
    {
      "cell_type": "code",
      "source": [
        "# s1_load = np.loadtxt('/content/drive/MyDrive/Spring2023/CS4140/S1.txt', dtype = str)\n",
        "s1 = []\n",
        "s2 = []\n",
        "with open('/content/drive/MyDrive/Spring2023/CS4140/S1.txt','r') as file:\n",
        "  for line in file:\n",
        "    s1.append(line)\n",
        "s1 = [*s1[0]]\n",
        "\n",
        "with open('/content/drive/MyDrive/Spring2023/CS4140/S2.txt','r') as file:\n",
        "  for line in file:\n",
        "    s2.append(line)\n",
        "s2 = [*s2[0]]"
      ],
      "metadata": {
        "id": "AqreB98PQ7ce"
      },
      "execution_count": null,
      "outputs": []
    },
    {
      "cell_type": "code",
      "source": [
        "k = 12\n",
        "\n",
        "def MS(S, k):\n",
        "  C = [0 for i in range(k-1)]\n",
        "  L = [None for i in range(k-1)]\n",
        "\n",
        "  for char in S:\n",
        "    if char in L:\n",
        "      j = L.index(char)\n",
        "      C[j] += 1\n",
        "    else:\n",
        "      if 0 in C:\n",
        "        zero_idx = C.index(0)\n",
        "        L[zero_idx] = char\n",
        "        C[zero_idx] = 1\n",
        "      else:\n",
        "        for id in range(k-1):\n",
        "          C[id] -= 1\n",
        "  return C, L"
      ],
      "metadata": {
        "id": "ciAoORhaQFpT"
      },
      "execution_count": null,
      "outputs": []
    },
    {
      "cell_type": "code",
      "source": [
        "s1_label_count = {}\n",
        "s2_label_count = {}\n",
        "s1_label_count_ratio = {}\n",
        "s2_label_count_ratio = {}\n",
        "\n",
        "c1, l1 = MS(s1, k)\n",
        "c2, l2 = MS(s2, k)\n",
        "\n",
        "c1_ratio = [c/len(s1) for c in c1]\n",
        "c2_ratio = [c/len(s2) for c in c2]\n",
        "\n",
        "for i,c in enumerate(c1):\n",
        "  s1_label_count[l1[i]] = c\n",
        "for i,c in enumerate(c2):\n",
        "  s2_label_count[l2[i]] = c\n",
        "\n",
        "for i,c in enumerate(c1_ratio):\n",
        "  s1_label_count_ratio[l1[i]] = c\n",
        "for i,c in enumerate(c2_ratio):\n",
        "  s2_label_count_ratio[l2[i]] = c\n",
        "\n",
        "print(s1_label_count)\n",
        "print(s2_label_count)\n",
        "print(s1_label_count_ratio)\n",
        "print(s2_label_count_ratio)"
      ],
      "metadata": {
        "colab": {
          "base_uri": "https://localhost:8080/"
        },
        "id": "UTwfHuF2Ivjf",
        "outputId": "ab034173-1183-4a59-82ff-7879df28d2bd"
      },
      "execution_count": null,
      "outputs": [
        {
          "output_type": "stream",
          "name": "stdout",
          "text": [
            "{'a': 772865, 'b': 472863, 'p': 2, 'd': 1, 's': 1, 'f': 1, 'c': 233850, 'v': 2, 'k': 1, 't': 1, 'n': 1}\n",
            "{'t': 0, 'b': 710525, 'a': 1911225, 'h': 0, 'j': 0, 's': 0, 'c': 311750, 'u': 0, 'f': 0, 'i': 0, 'o': 0}\n",
            "{'a': 0.2576216666666667, 'b': 0.157621, 'p': 6.666666666666667e-07, 'd': 3.3333333333333335e-07, 's': 3.3333333333333335e-07, 'f': 3.3333333333333335e-07, 'c': 0.07795, 'v': 6.666666666666667e-07, 'k': 3.3333333333333335e-07, 't': 3.3333333333333335e-07, 'n': 3.3333333333333335e-07}\n",
            "{'t': 0.0, 'b': 0.17763125, 'a': 0.47780625, 'h': 0.0, 'j': 0.0, 's': 0.0, 'c': 0.0779375, 'u': 0.0, 'f': 0.0, 'i': 0.0, 'o': 0.0}\n"
          ]
        }
      ]
    },
    {
      "cell_type": "code",
      "source": [
        "s1_might_must_25 = {}\n",
        "\n",
        "for char, cr in s1_label_count_ratio.items():\n",
        "  if cr <= 0.25:\n",
        "    s1_might_must_25[char] = \"might\"\n",
        "  else:\n",
        "    s1_might_must_25[char] = \"must\"\n",
        "\n",
        "s2_might_must_25 = {}\n",
        "\n",
        "for char, cr in s2_label_count_ratio.items():\n",
        "  if cr <= 0.25:\n",
        "    s2_might_must_25[char] = \"might\"\n",
        "  else:\n",
        "    s2_might_must_25[char] = \"must\"\n",
        "\n",
        "print(s1_might_must_25)\n",
        "print(s2_might_must_25)"
      ],
      "metadata": {
        "colab": {
          "base_uri": "https://localhost:8080/"
        },
        "id": "p1xJVXNjNigW",
        "outputId": "e69c5ef8-f282-4844-abcb-0fffff09b797"
      },
      "execution_count": null,
      "outputs": [
        {
          "output_type": "stream",
          "name": "stdout",
          "text": [
            "{'a': 'must', 'b': 'might', 'p': 'might', 'd': 'might', 's': 'might', 'f': 'might', 'c': 'might', 'v': 'might', 'k': 'might', 't': 'might', 'n': 'might'}\n",
            "{'t': 'might', 'b': 'might', 'a': 'must', 'h': 'might', 'j': 'might', 's': 'might', 'c': 'might', 'u': 'might', 'f': 'might', 'i': 'might', 'o': 'might'}\n"
          ]
        }
      ]
    },
    {
      "cell_type": "code",
      "source": [
        "from IPython.core.compilerop import hashlib\n",
        "import math\n",
        "t = 6\n",
        "k = 12\n",
        "\n",
        "def count_min_sketch(S, t, k, target):\n",
        "  C = np.zeros((t, k))\n",
        "  hashfunctions = ['sha256', 'sha384', 'sha224', 'sha512', 'sha1', 'md5']\n",
        "  min_char_count = math.inf\n",
        "\n",
        "  for char in S:\n",
        "\n",
        "    for j in range(t):\n",
        "      if j == 0:\n",
        "        h = int(hashlib.sha384(str(char).encode()).hexdigest(), 16) % k\n",
        "      elif j == 1:\n",
        "        h = int(hashlib.sha224(str(char).encode()).hexdigest(), 16) % k\n",
        "      elif j == 2:\n",
        "        h = int(hashlib.sha512(str(char).encode()).hexdigest(), 16) % k\n",
        "      elif j == 3:\n",
        "        h = int(hashlib.sha1(str(char).encode()).hexdigest(), 16) % k\n",
        "      elif j == 4:\n",
        "        h = int(hashlib.sha256(str(char).encode()).hexdigest(), 16) % k\n",
        "      else:\n",
        "        h = int(hashlib.sha3_224(str(char).encode()).hexdigest(), 16) % k\n",
        "      C[j][h] += 1\n",
        "    if (char == target):\n",
        "      min_char_count = min(min_char_count, C[j][h])\n",
        "  return C, min_char_count"
      ],
      "metadata": {
        "id": "KvZ7-EXDP9S7"
      },
      "execution_count": null,
      "outputs": []
    },
    {
      "cell_type": "code",
      "source": [
        "char_list = ['a', 'b', 'c']\n",
        "C_dict = {}\n",
        "char_count = {}\n",
        "for char in char_list:\n",
        "  C, min_char_count = count_min_sketch(s1, t, k, char)\n",
        "  C_dict[char] = C\n",
        "  char_count[char] = min_char_count\n",
        "\n",
        "print(C_dict)\n",
        "print(char_count)\n",
        "# {'a': 1.0, 'b': 1.0, 'c': 3.0}\n",
        "# c 480289 | 0.16009633333333334\n",
        "# a 899566 | 0.2998553333333333\n",
        "# b 599564 | 0.19985466666666668\n",
        "# fq <= fq^ <= fq + 2/k*len(s1)\n",
        "# fq = 0.25, fq^ = counter"
      ],
      "metadata": {
        "colab": {
          "base_uri": "https://localhost:8080/"
        },
        "id": "dj1Hu8vVQhyU",
        "outputId": "855613ea-3df2-4d98-98a4-2f8a118db308"
      },
      "execution_count": null,
      "outputs": [
        {
          "output_type": "stream",
          "name": "stdout",
          "text": [
            "{'a': array([[ 180626., 1079552.,   59550.,  180265.,  719098.,       0.,\n",
            "          59750.,  480704.,   60179.,       0.,  120450.,   59826.],\n",
            "       [ 179622.,   59826.,  601028.,  119717.,       0.,  959116.,\n",
            "          60259.,  659314.,   59994.,  180614.,   60269.,   60241.],\n",
            "       [      0.,  360129.,   60076.,   59550.,       0., 1079877.,\n",
            "         599564.,  120082.,  480524.,   59900.,  119924.,   60374.],\n",
            "       [ 659833.,  180456.,       0.,   60109., 1078945.,   60315.,\n",
            "          59900.,   60076.,  480289.,       0.,  180679.,  179398.],\n",
            "       [ 120103.,  119175.,  119367.,   60088.,   59826.,  719838.,\n",
            "          60179., 1020076.,  120227.,   60076.,  480786.,   60259.],\n",
            "       [  60269.,  119865., 1019540.,       0.,       0.,  120091.,\n",
            "         120311.,  899566.,   60259.,  360032.,  120058.,  120009.]]), 'b': array([[ 180626., 1079552.,   59550.,  180265.,  719098.,       0.,\n",
            "          59750.,  480704.,   60179.,       0.,  120450.,   59826.],\n",
            "       [ 179622.,   59826.,  601028.,  119717.,       0.,  959116.,\n",
            "          60259.,  659314.,   59994.,  180614.,   60269.,   60241.],\n",
            "       [      0.,  360129.,   60076.,   59550.,       0., 1079877.,\n",
            "         599564.,  120082.,  480524.,   59900.,  119924.,   60374.],\n",
            "       [ 659833.,  180456.,       0.,   60109., 1078945.,   60315.,\n",
            "          59900.,   60076.,  480289.,       0.,  180679.,  179398.],\n",
            "       [ 120103.,  119175.,  119367.,   60088.,   59826.,  719838.,\n",
            "          60179., 1020076.,  120227.,   60076.,  480786.,   60259.],\n",
            "       [  60269.,  119865., 1019540.,       0.,       0.,  120091.,\n",
            "         120311.,  899566.,   60259.,  360032.,  120058.,  120009.]]), 'c': array([[ 180626., 1079552.,   59550.,  180265.,  719098.,       0.,\n",
            "          59750.,  480704.,   60179.,       0.,  120450.,   59826.],\n",
            "       [ 179622.,   59826.,  601028.,  119717.,       0.,  959116.,\n",
            "          60259.,  659314.,   59994.,  180614.,   60269.,   60241.],\n",
            "       [      0.,  360129.,   60076.,   59550.,       0., 1079877.,\n",
            "         599564.,  120082.,  480524.,   59900.,  119924.,   60374.],\n",
            "       [ 659833.,  180456.,       0.,   60109., 1078945.,   60315.,\n",
            "          59900.,   60076.,  480289.,       0.,  180679.,  179398.],\n",
            "       [ 120103.,  119175.,  119367.,   60088.,   59826.,  719838.,\n",
            "          60179., 1020076.,  120227.,   60076.,  480786.,   60259.],\n",
            "       [  60269.,  119865., 1019540.,       0.,       0.,  120091.,\n",
            "         120311.,  899566.,   60259.,  360032.,  120058.,  120009.]])}\n",
            "{'a': 1.0, 'b': 1.0, 'c': 3.0}\n"
          ]
        }
      ]
    }
  ]
}