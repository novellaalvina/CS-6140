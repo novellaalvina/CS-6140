{
  "cells": [
    {
      "cell_type": "code",
      "execution_count": null,
      "metadata": {
        "id": "pX2Y6GpO2CYP"
      },
      "outputs": [],
      "source": [
        "import math\n",
        "import random\n",
        "import numpy as np\n",
        "from itertools import combinations\n",
        "import matplotlib.pyplot as plt"
      ]
    },
    {
      "cell_type": "code",
      "execution_count": null,
      "metadata": {
        "colab": {
          "base_uri": "https://localhost:8080/"
        },
        "id": "FgUQa0C02nry",
        "outputId": "3b6c72fb-a09e-4a9f-d8cd-862cccf0cc4e"
      },
      "outputs": [
        {
          "output_type": "execute_result",
          "data": {
            "text/plain": [
              "0.8785349341564557"
            ]
          },
          "metadata": {},
          "execution_count": 218
        }
      ],
      "source": [
        "# choosing r and b\n",
        "t = 200\n",
        "tau_js = 0.75\n",
        "\n",
        "b = -math.log(t,tau_js)\n",
        "r = t/b\n",
        "1/r ** (1/b)\n"
      ]
    },
    {
      "cell_type": "code",
      "source": [],
      "metadata": {
        "id": "IeboMnZivpXm"
      },
      "execution_count": null,
      "outputs": []
    },
    {
      "cell_type": "code",
      "execution_count": null,
      "metadata": {
        "colab": {
          "base_uri": "https://localhost:8080/"
        },
        "id": "Zw5mO8JPLZaL",
        "outputId": "2e5bda69-0b61-49de-ef9a-46b6fcbb1205"
      },
      "outputs": [
        {
          "output_type": "execute_result",
          "data": {
            "text/plain": [
              "{'AB': 0.463034660558881,\n",
              " 'AC': 4.7683705162171464e-07,\n",
              " 'AD': 1.5329963128030144e-05,\n",
              " 'BC': 2.930858888916532e-08,\n",
              " 'BD': 0.00905323267301461,\n",
              " 'CD': 0.9972107202823838}"
            ]
          },
          "metadata": {},
          "execution_count": 217
        }
      ],
      "source": [
        "D = {'AB': 0.77, 'AC': 0.25, 'AD': 0.33, 'BC': 0.2, 'BD': 0.55, 'CD': 0.91}\n",
        "r = 16\n",
        "b = 12.5\n",
        "for i,s in enumerate(D.values()):\n",
        "    D[list(D.keys())[i]] = 1 - (1-s**b)**r\n",
        "D"
      ]
    },
    {
      "cell_type": "code",
      "source": [
        "r = [1,2,4,5,8,10, 12.5, 200, 100, 50, 40, 25, 20, 16 ]\n",
        "b = [200, 100, 50, 40, 25, 20, 16, 1,2,4,5,8,10, 12.5]\n",
        "\n",
        "for i in range(len(r)):\n",
        "    print(\"r: \", r[i], \"| b: \", b[i], \"| approx: \", 1/r[i] ** (1/b[i]))"
      ],
      "metadata": {
        "colab": {
          "base_uri": "https://localhost:8080/"
        },
        "id": "WaNEq38Hw5KZ",
        "outputId": "b3f58525-8272-40d8-e42c-4e10335d02f7"
      },
      "execution_count": null,
      "outputs": [
        {
          "output_type": "stream",
          "name": "stdout",
          "text": [
            "r:  1 | b:  200 | approx:  1.0\n",
            "r:  2 | b:  100 | approx:  0.9930924954370358\n",
            "r:  4 | b:  50 | approx:  0.9726549474122855\n",
            "r:  5 | b:  40 | approx:  0.9605627697295936\n",
            "r:  8 | b:  25 | approx:  0.9201876506248752\n",
            "r:  10 | b:  20 | approx:  0.8912509381337456\n",
            "r:  12.5 | b:  16 | approx:  0.853971002857656\n",
            "r:  200 | b:  1 | approx:  0.005\n",
            "r:  100 | b:  2 | approx:  0.1\n",
            "r:  50 | b:  4 | approx:  0.3760603093086394\n",
            "r:  40 | b:  5 | approx:  0.4781762498950185\n",
            "r:  25 | b:  8 | approx:  0.668740304976422\n",
            "r:  20 | b:  10 | approx:  0.7411344491069477\n",
            "r:  16 | b:  12.5 | approx:  0.8010698775896221\n"
          ]
        }
      ]
    },
    {
      "cell_type": "code",
      "source": [
        "r_b"
      ],
      "metadata": {
        "colab": {
          "base_uri": "https://localhost:8080/"
        },
        "id": "-Gv1AHEMw6-6",
        "outputId": "5f3e3e3b-9b8a-4a42-da6b-daff93e20c80"
      },
      "execution_count": null,
      "outputs": [
        {
          "output_type": "execute_result",
          "data": {
            "text/plain": [
              "{1: 0.08471552471836663, 2: 1.0, 4: 1.0, 5: 1.0, 8: 1.0, 10: 0.999999999275888}"
            ]
          },
          "metadata": {},
          "execution_count": 194
        }
      ]
    },
    {
      "cell_type": "code",
      "execution_count": null,
      "metadata": {
        "colab": {
          "base_uri": "https://localhost:8080/"
        },
        "id": "DjN6FGEfZYCf",
        "outputId": "d84c1465-0bb6-44ef-cb1d-757e6bd00fd2"
      },
      "outputs": [
        {
          "output_type": "execute_result",
          "data": {
            "text/plain": [
              "array([-0.05841863, -0.45604173, -0.21721037,  0.67171325,  0.04858661,\n",
              "        0.23626545,  0.10112409,  0.34509894, -0.19294789, -0.2559373 ])"
            ]
          },
          "metadata": {},
          "execution_count": 207
        }
      ],
      "source": [
        "def random_unit_vector(dim):\n",
        "  random_vector = []\n",
        "\n",
        "  for d in range(int(dim/2)):\n",
        "\n",
        "    u1 = random.uniform(0,1)\n",
        "    u2 = random.uniform(0,1)\n",
        "\n",
        "    y1 = math.sqrt(-2*np.log(u1))*math.cos(2*np.pi*u2)\n",
        "    y2 = math.sqrt(-2*np.log(u1))*math.sin(2*np.pi*u2)\n",
        "\n",
        "    random_vector.append(y1)\n",
        "    random_vector.append(y2)\n",
        "\n",
        "  unit_vector = random_vector/np.linalg.norm(random_vector)\n",
        "\n",
        "  return unit_vector\n",
        "\n",
        "random_unit_vector(10)"
      ]
    },
    {
      "cell_type": "code",
      "execution_count": null,
      "metadata": {
        "colab": {
          "base_uri": "https://localhost:8080/",
          "height": 295
        },
        "id": "5ZKkt7Ins-rz",
        "outputId": "de3b97fc-e860-44d7-8c50-865cbf2199e5"
      },
      "outputs": [
        {
          "output_type": "display_data",
          "data": {
            "text/plain": [
              "<Figure size 432x288 with 1 Axes>"
            ],
            "image/png": "[encoded data removed]"
          },
          "metadata": {
            "needs_background": "light"
          }
        }
      ],
      "source": [
        "t = 200\n",
        "d = 100\n",
        "t_unit_vectors = []\n",
        "for i in range(t):\n",
        "  t_unit_vectors.append(random_unit_vector(d))\n",
        "\n",
        "comb = list(combinations(np.arange(len(t_unit_vectors)), 2))\n",
        "pairwise_dotproduct = []\n",
        "for c in comb:\n",
        "  pairwise_dotproduct.append(np.dot(t_unit_vectors[c[0]], t_unit_vectors[c[1]]))\n",
        "\n",
        "\n",
        "x = np.sort(pairwise_dotproduct)\n",
        "y = np.arange(len(comb))/float(len(comb))\n",
        "# ya = np.exp(-x**2)\n",
        "# ya/=(ya*0.05).sum()\n",
        "# y = np.cumsum(ya*0.05)\n",
        "# plotting the line 2 points \n",
        "plt.plot(x, y)\n",
        "  \n",
        "plt.xlabel('x - axis')\n",
        "plt.ylabel('y - axis')\n",
        "plt.title('pairwise dot products cdf')\n",
        "plt.show()\n"
      ]
    },
    {
      "cell_type": "code",
      "execution_count": null,
      "metadata": {
        "id": "pDGiRb4k74QG"
      },
      "outputs": [],
      "source": [
        "n = 500\n",
        "d = 100\n",
        "tau_js = 0.75\n",
        "\n",
        "def angular_similarities(a, b):\n",
        "    anorm = np.linalg.norm(a)\n",
        "    bnorm = np.linalg.norm(b)\n",
        "    dot_product = np.dot(a,b)/(anorm * bnorm)\n",
        "    return 1- np.arccos(dot_product)/np.pi\n"
      ]
    },
    {
      "cell_type": "code",
      "execution_count": null,
      "metadata": {
        "id": "l2E-KtuYPmku"
      },
      "outputs": [],
      "source": [
        "dataset = np.loadtxt('/content/drive/MyDrive/Spring2023/CS4140/R.txt', delimiter=' ')\n",
        "dataset = dataset[0:n]"
      ]
    },
    {
      "cell_type": "code",
      "execution_count": null,
      "metadata": {
        "id": "Z7mmiW7_TPm9",
        "colab": {
          "base_uri": "https://localhost:8080/",
          "height": 295
        },
        "outputId": "e75dc021-17fe-4948-ece1-164c52e197a5"
      },
      "outputs": [
        {
          "output_type": "display_data",
          "data": {
            "text/plain": [
              "<Figure size 432x288 with 1 Axes>"
            ],
            "image/png": "[encoded data removed]"
          },
          "metadata": {
            "needs_background": "light"
          }
        }
      ],
      "source": [
        "comb = list(combinations(np.arange(len(dataset)), 2))\n",
        "dotproduct_angular_similarities = []\n",
        "count = 0\n",
        "for c in comb:\n",
        "    angular_similarity = angular_similarities(dataset[c[0]], dataset[c[1]])\n",
        "    dotproduct_angular_similarities.append(angular_similarity)\n",
        "    if angular_similarity > 0.75:\n",
        "      count += 1\n",
        "\n",
        "x = np.sort(dotproduct_angular_similarities)\n",
        "y = np.arange(len(comb))/float(len(comb))\n",
        "\n",
        "plt.plot(x, y)\n",
        "  \n",
        "plt.xlabel('x - axis')\n",
        "plt.ylabel('y - axis')\n",
        "plt.title('angular similarities dot products cdf')\n",
        "plt.show()"
      ]
    },
    {
      "cell_type": "code",
      "source": [
        "comb = list(combinations(np.arange(len(t_unit_vectors)), 2))\n",
        "dotproduct_angular_similarities_t = []\n",
        "count = 0\n",
        "for c in comb:\n",
        "    angular_similarity = angular_similarities(t_unit_vectors[c[0]], t_unit_vectors[c[1]])\n",
        "    dotproduct_angular_similarities_t.append(angular_similarity)\n",
        "    if angular_similarity > 0.75:\n",
        "      count += 1\n",
        "      \n",
        "x = np.sort(dotproduct_angular_similarities_t)\n",
        "y = np.arange(len(comb))/float(len(comb))\n",
        "\n",
        "plt.plot(x, y)\n",
        "  \n",
        "plt.xlabel('x - axis')\n",
        "plt.ylabel('y - axis')\n",
        "plt.title('angular similarities dot products using unit vectors from Q2.B cdf')\n",
        "plt.show()"
      ],
      "metadata": {
        "colab": {
          "base_uri": "https://localhost:8080/",
          "height": 295
        },
        "id": "gvH_urQ9diHU",
        "outputId": "586bf292-aa69-46a2-e8e1-ac42332fed8f"
      },
      "execution_count": null,
      "outputs": [
        {
          "output_type": "display_data",
          "data": {
            "text/plain": [
              "<Figure size 432x288 with 1 Axes>"
            ],
            "image/png": "[encoded data removed]"
          },
          "metadata": {
            "needs_background": "light"
          }
        }
      ]
    }
  ],
  "metadata": {
    "colab": {
      "provenance": []
    },
    "kernelspec": {
      "display_name": "Python 3",
      "name": "python3"
    },
    "language_info": {
      "name": "python"
    }
  },
  "nbformat": 4,
  "nbformat_minor": 0
}