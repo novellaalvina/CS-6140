{
  "cells": [
    {
      "cell_type": "code",
      "execution_count": null,
      "metadata": {
        "id": "_1o_jmEXnb4X"
      },
      "outputs": [],
      "source": [
        "import math\n",
        "import random\n",
        "import numpy as np\n",
        "import copy\n",
        "from itertools import combinations\n",
        "import matplotlib.pyplot as plt\n",
        "from sklearn.cluster import AgglomerativeClustering"
      ]
    },
    {
      "cell_type": "code",
      "execution_count": null,
      "metadata": {
        "id": "piHEJvZvoLDg"
      },
      "outputs": [],
      "source": [
        "c1 = np.loadtxt('/content/drive/MyDrive/Spring2023/CS4140/C1.txt', dtype = float)\n",
        "c2 = np.loadtxt('/content/drive/MyDrive/Spring2023/CS4140/C2.txt', dtype = float)\n",
        "c3 = np.loadtxt('/content/drive/MyDrive/Spring2023/CS4140/C3.txt', dtype = float)"
      ]
    },
    {
      "cell_type": "code",
      "source": [
        "c2"
      ],
      "metadata": {
        "id": "vstgt8jNM4MY"
      },
      "execution_count": null,
      "outputs": []
    },
    {
      "cell_type": "code",
      "execution_count": null,
      "metadata": {
        "id": "Pzt7CTJz9arg"
      },
      "outputs": [],
      "source": [
        "c1_lst = []\n",
        "for i in c1:\n",
        "  c1_lst.append([i])\n",
        "c1_lst[0]\n",
        "c1_lst2 = copy.deepcopy(c1_lst)"
      ]
    },
    {
      "cell_type": "code",
      "source": [
        "c1_lst2_filtered = [] \n",
        "for c in c1_lst2:\n",
        "  c1_lst2_filtered.append([c[0][1], c[0][2]])\n",
        "c1_lst2_filtered "
      ],
      "metadata": {
        "id": "TBUffHJrIYRd",
        "colab": {
          "base_uri": "https://localhost:8080/"
        },
        "outputId": "e847a662-78a1-4443-b900-f247deb32ac1"
      },
      "execution_count": null,
      "outputs": [
        {
          "output_type": "execute_result",
          "data": {
            "text/plain": [
              "[[-0.75, 2.23129],\n",
              " [-0.77, 1.7523932],\n",
              " [-0.2, -1.51712],\n",
              " [-0.12, -1.38923],\n",
              " [0.5, 0.123],\n",
              " [0.7234, 0.125],\n",
              " [0.9, 0.2],\n",
              " [-1.0, 0.4],\n",
              " [-0.8461538, 0.2630405],\n",
              " [-0.6923077, 0.1173418],\n",
              " [-0.5384615, -0.031634],\n",
              " [-0.3846154, -0.1784251],\n",
              " [-0.2307692, -0.3175694],\n",
              " [-0.0769231, -0.4436049],\n",
              " [0.0769231, -0.5510696],\n",
              " [0.2307692, -0.6345016],\n",
              " [0.3846154, -0.6884388],\n",
              " [0.5384615, -0.7074192],\n",
              " [0.6923077, -0.6859809],\n",
              " [0.8461538, -0.6186618],\n",
              " [1.0, -0.5]]"
            ]
          },
          "metadata": {},
          "execution_count": 4
        }
      ]
    },
    {
      "cell_type": "code",
      "source": [],
      "metadata": {
        "colab": {
          "base_uri": "https://localhost:8080/"
        },
        "id": "MfE5cd6cMulI",
        "outputId": "dc4b1947-b334-4098-df2a-3a3c5ea0d60b"
      },
      "execution_count": null,
      "outputs": [
        {
          "output_type": "execute_result",
          "data": {
            "text/plain": [
              "array([[-2.7694973, -2.7694973],\n",
              "       [-2.7039693, -2.7039693],\n",
              "       [-2.4496287, -2.4496287],\n",
              "       ...,\n",
              "       [-0.9127945, -0.9127945],\n",
              "       [-1.6710883, -1.6710883],\n",
              "       [-2.       , -2.       ]])"
            ]
          },
          "metadata": {},
          "execution_count": 95
        }
      ]
    },
    {
      "cell_type": "code",
      "execution_count": null,
      "metadata": {
        "id": "SOwPY9bHwBx7"
      },
      "outputs": [],
      "source": [
        "r = np.arange(0,len(c1))\n",
        "comb = list(combinations(r, 2))"
      ]
    },
    {
      "cell_type": "code",
      "execution_count": null,
      "metadata": {
        "id": "3QunaVwfruIs"
      },
      "outputs": [],
      "source": [
        "def complete_link(s1, s2):\n",
        "  complete_link_comp = -math.inf\n",
        "\n",
        "  for i in s1:\n",
        "    for j in s2:\n",
        "      complete_link_comp = max(np.sqrt((i[1]-j[1])**2+(i[2]-j[2])**2), complete_link_comp)\n",
        "\n",
        "  return complete_link_comp"
      ]
    },
    {
      "cell_type": "code",
      "execution_count": null,
      "metadata": {
        "id": "_gQdMws-3Pul"
      },
      "outputs": [],
      "source": [
        "def single_link(s1, s2):\n",
        "  single_link_comp = math.inf\n",
        "\n",
        "  for i in s1:\n",
        "    for j in s2:\n",
        "      single_link_comp = min(np.sqrt((i[1]-j[1])**2+(i[2]-j[2])**2), single_link_comp)\n",
        "\n",
        "  return single_link_comp"
      ]
    },
    {
      "cell_type": "code",
      "source": [
        "c1_lst2"
      ],
      "metadata": {
        "id": "yDwlc31KHJMG"
      },
      "execution_count": null,
      "outputs": []
    },
    {
      "cell_type": "code",
      "execution_count": null,
      "metadata": {
        "id": "OBAhN5M0wqyL",
        "colab": {
          "base_uri": "https://localhost:8080/"
        },
        "outputId": "15d029f1-4dce-4680-ffb7-f8d7643c98c2"
      },
      "outputs": [
        {
          "output_type": "stream",
          "name": "stderr",
          "text": [
            "/usr/local/lib/python3.8/dist-packages/numpy/lib/function_base.py:4454: VisibleDeprecationWarning: Creating an ndarray from ragged nested sequences (which is a list-or-tuple of lists-or-tuples-or ndarrays with different lengths or shapes) is deprecated. If you meant to do this, you must specify 'dtype=object' when creating the ndarray.\n",
            "  arr = asarray(arr)\n"
          ]
        }
      ],
      "source": [
        "while len(c1_lst2) > 3:\n",
        "  s_matrix = np.ones((len(c1_lst2), len(c1_lst2)))\n",
        "  for i in range(len(c1_lst2)):\n",
        "    for j in range(i+1,len(c1_lst2)):\n",
        "      s_matrix[i,j] = complete_link(c1_lst2[i], c1_lst2[j])\n",
        "  min_dist_idx = np.where(s_matrix == np.min(s_matrix))\n",
        "  c1_lst2[min_dist_idx[0][0]].extend(c1_lst2[min_dist_idx[1][0]])\n",
        "  c1_lst2 = np.delete(c1_lst2, min_dist_idx[1][0])"
      ]
    },
    {
      "cell_type": "code",
      "source": [
        "c1_lst2"
      ],
      "metadata": {
        "id": "LyxQ-C7IHZq8"
      },
      "execution_count": null,
      "outputs": []
    },
    {
      "cell_type": "code",
      "source": [
        "colors = [\"green\", \"red\", \"blue\"]\n",
        "fig = plt.figure()\n",
        "ax = fig.add_subplot()\n",
        "for data, color in zip(c1_lst2, colors):\n",
        "    print(data)\n",
        "    for dot in data:\n",
        "      x,y = dot[1],dot[2]\n",
        "      ax.scatter(x, y, alpha=0.8, c=color)\n",
        "plt.xlabel('x')\n",
        "plt.ylabel('y')\n",
        "plt.legend()\n",
        "plt.show()"
      ],
      "metadata": {
        "id": "-Q_Q7XnKGLs8",
        "colab": {
          "base_uri": "https://localhost:8080/",
          "height": 370
        },
        "outputId": "fe3dc03b-fdad-4323-eef5-f161c0a2a467"
      },
      "execution_count": null,
      "outputs": [
        {
          "output_type": "stream",
          "name": "stderr",
          "text": [
            "WARNING:matplotlib.legend:No handles with labels found to put in legend.\n"
          ]
        },
        {
          "output_type": "stream",
          "name": "stdout",
          "text": [
            "[array([ 8. , -1. ,  0.4]), array([ 9.       , -0.8461538,  0.2630405]), array([10.       , -0.6923077,  0.1173418])]\n",
            "[array([11.       , -0.5384615, -0.031634 ]), array([12.       , -0.3846154, -0.1784251]), array([13.       , -0.2307692, -0.3175694]), array([14.       , -0.0769231, -0.4436049])]\n",
            "[array([15.       ,  0.0769231, -0.5510696]), array([16.       ,  0.2307692, -0.6345016]), array([17.       ,  0.3846154, -0.6884388]), array([18.       ,  0.5384615, -0.7074192])]\n"
          ]
        },
        {
          "output_type": "display_data",
          "data": {
            "text/plain": [
              "<Figure size 432x288 with 1 Axes>"
            ],
            "image/png": "[encoded data removed]"
          },
          "metadata": {
            "needs_background": "light"
          }
        }
      ]
    },
    {
      "cell_type": "code",
      "source": [
        "from sklearn.cluster import AgglomerativeClustering\n",
        "agglo_cluster_2 = AgglomerativeClustering(n_clusters=3, linkage='complete')\n",
        "agglo_cluster_2.fit_predict(c1_lst2_filtered)\n",
        "plt.figure()\n",
        "plt.scatter(np.array(c1_lst2_filtered)[:,0], np.array(c1_lst2_filtered)[:,1], c=agglo_cluster_2.labels_, cmap='rainbow' )\n",
        "plt.title('complete link scatter plot')\n",
        "plt.show()"
      ],
      "metadata": {
        "colab": {
          "base_uri": "https://localhost:8080/",
          "height": 281
        },
        "id": "_bCNEcRTKOGp",
        "outputId": "9f362192-cb23-4ad5-c7d0-03c84c3f8a3c"
      },
      "execution_count": null,
      "outputs": [
        {
          "output_type": "display_data",
          "data": {
            "text/plain": [
              "<Figure size 432x288 with 1 Axes>"
            ],
            "image/png": "[encoded data removed]"
          },
          "metadata": {
            "needs_background": "light"
          }
        }
      ]
    },
    {
      "cell_type": "code",
      "source": [
        "while len(c1_lst) > 3:\n",
        "  s_matrix = np.ones((len(c1_lst), len(c1_lst)))\n",
        "  for i in range(len(c1_lst)):\n",
        "    for j in range(i+1,len(c1_lst)):\n",
        "      s_matrix[i,j] = single_link(c1_lst[i], c1_lst[j])\n",
        "  min_dist_idx = np.where(s_matrix == np.min(s_matrix))\n",
        "  c1_lst[min_dist_idx[0][0]].extend(c1_lst[min_dist_idx[1][0]])\n",
        "  c1_lst = np.delete(c1_lst, min_dist_idx[1][0])"
      ],
      "metadata": {
        "id": "a5LRolfhGEa4",
        "colab": {
          "base_uri": "https://localhost:8080/"
        },
        "outputId": "c60e71e9-c036-483a-c489-e0ecbb1443a2"
      },
      "execution_count": null,
      "outputs": [
        {
          "output_type": "stream",
          "name": "stderr",
          "text": [
            "/usr/local/lib/python3.8/dist-packages/numpy/lib/function_base.py:4454: VisibleDeprecationWarning: Creating an ndarray from ragged nested sequences (which is a list-or-tuple of lists-or-tuples-or ndarrays with different lengths or shapes) is deprecated. If you meant to do this, you must specify 'dtype=object' when creating the ndarray.\n",
            "  arr = asarray(arr)\n"
          ]
        }
      ]
    },
    {
      "cell_type": "code",
      "source": [
        "colors = [\"green\", \"red\", \"blue\"]\n",
        "\n",
        "fig = plt.figure()\n",
        "ax = fig.add_subplot()\n",
        "for data, color in zip(c1_lst, colors):\n",
        "    print(data)\n",
        "    for dot in data:\n",
        "      x,y = dot[1],dot[2]\n",
        "      ax.scatter(x, y, alpha=0.8, c=color)\n",
        "plt.xlabel('x')\n",
        "plt.ylabel('y')\n",
        "plt.legend()\n",
        "plt.title('single link scatter plot')\n",
        "plt.show()\n",
        "# [array([ 1.     , -0.75   ,  2.23129]), array([ 2.       , -0.77     ,  1.7523932])]\n",
        "# [array([ 3.     , -0.2    , -1.51712]), array([ 4.     , -0.12   , -1.38923])]\n",
        "# [array([5.   , 0.5  , 0.123]), array([6.    , 0.7234, 0.125 ]), array([7. , 0.9, 0.2]), array([ 8. , -1. ,  0.4]), array([ 9.       , -0.8461538,  0.2630405]), array([10.       , -0.6923077,  0.1173418]), array([11.       , -0.5384615, -0.031634 ]), array([12.       , -0.3846154, -0.1784251]), array([13.       , -0.2307692, -0.3175694]), array([14.       , -0.0769231, -0.4436049]), array([15.       ,  0.0769231, -0.5510696]), array([16.       ,  0.2307692, -0.6345016]), array([17.       ,  0.3846154, -0.6884388]), array([18.       ,  0.5384615, -0.7074192]), array([19.       ,  0.6923077, -0.6859809]), array([20.       ,  0.8461538, -0.6186618]), array([21. ,  1. , -0.5])]"
      ],
      "metadata": {
        "id": "wpaKtdyWR4d-",
        "colab": {
          "base_uri": "https://localhost:8080/",
          "height": 384
        },
        "outputId": "66565976-5813-4086-cd36-f356214dfb24"
      },
      "execution_count": null,
      "outputs": [
        {
          "output_type": "stream",
          "name": "stderr",
          "text": [
            "WARNING:matplotlib.legend:No handles with labels found to put in legend.\n"
          ]
        },
        {
          "output_type": "stream",
          "name": "stdout",
          "text": [
            "[array([ 1.     , -0.75   ,  2.23129]), array([ 2.       , -0.77     ,  1.7523932])]\n",
            "[array([ 3.     , -0.2    , -1.51712]), array([ 4.     , -0.12   , -1.38923])]\n",
            "[array([5.   , 0.5  , 0.123]), array([6.    , 0.7234, 0.125 ]), array([7. , 0.9, 0.2]), array([ 8. , -1. ,  0.4]), array([ 9.       , -0.8461538,  0.2630405]), array([10.       , -0.6923077,  0.1173418]), array([11.       , -0.5384615, -0.031634 ]), array([12.       , -0.3846154, -0.1784251]), array([13.       , -0.2307692, -0.3175694]), array([14.       , -0.0769231, -0.4436049]), array([15.       ,  0.0769231, -0.5510696]), array([16.       ,  0.2307692, -0.6345016]), array([17.       ,  0.3846154, -0.6884388]), array([18.       ,  0.5384615, -0.7074192]), array([19.       ,  0.6923077, -0.6859809]), array([20.       ,  0.8461538, -0.6186618]), array([21. ,  1. , -0.5])]\n"
          ]
        },
        {
          "output_type": "display_data",
          "data": {
            "text/plain": [
              "<Figure size 432x288 with 1 Axes>"
            ],
            "image/png": "[encoded data removed]"
          },
          "metadata": {
            "needs_background": "light"
          }
        }
      ]
    },
    {
      "cell_type": "code",
      "source": [
        "c2_lst = []\n",
        "for i in c2:\n",
        "  c2_lst.append([i[1], i[2]])\n",
        "data = np.array(c2_lst)\n",
        "centers = [data[0]]\n",
        "\n",
        "i = 0\n",
        "phi = np.zeros(len(data))\n",
        "index_set = set([1])\n",
        "\n",
        "while i < 3: # i = 0 | phi = np.zeros(len(data)) | index_set = set([1])\n",
        "\n",
        "  max_dist = 0\n",
        "  for j in range(len(data)):\n",
        "      x = int(phi[j])\n",
        "      #print(centers[x][0])\n",
        "      dist = np.sqrt((centers[x][0]-data[j][0])**2+(centers[x][1]-data[j][1])**2)\n",
        "      if dist > max_dist:\n",
        "          max_dist = dist\n",
        "          center = data[j]\n",
        "          index = j+1\n",
        "  i += 1\n",
        "  index_set.add(index)\n",
        "  centers.append(center)\n",
        "\n",
        "  for k in range(len(data)):\n",
        "      x = int(phi[k])\n",
        "      dist_x = np.sqrt((centers[x][0] - data[k][0]) ** 2 + (centers[x][1] - data[k][1]) ** 2)\n",
        "      dist_i = np.sqrt((centers[i][0] - data[k][0]) ** 2 + (centers[i][1] - data[k][1]) ** 2)\n",
        "      if (dist_x > dist_i):\n",
        "          phi[k] = i\n",
        "clusters = [[],[],[],[]]\n",
        "center_cost = 0\n",
        "mean_cost = 0\n",
        "\n",
        "for i in range(len(data)):\n",
        "    x = int(phi[i])\n",
        "    clusters[x].append(data[i])\n",
        "    dist = np.sqrt((centers[x][0] - data[i][0]) ** 2 + (centers[x][1] - data[i][1]) ** 2)\n",
        "    mean_cost += dist**2/len(data)\n",
        "    if dist > center_cost:\n",
        "        center_cost = dist\n",
        "\n",
        "mean_cost = np.sqrt(mean_cost)\n",
        "np.savetxt(\"GoneIndex.txt\", phi)\n",
        "print(\"4-center cost: \"+str(center_cost))\n",
        "print(\"4-mean cost: \"+str(mean_cost))\n",
        "print(centers)\n",
        "\n",
        "\n",
        "colors = [\"red\", \"brown\", \"blue\", \"green\"]\n",
        "\n",
        "fig = plt.figure()\n",
        "ax = fig.add_subplot()\n",
        "for data, color in zip(clusters, colors):\n",
        "    #print(data)\n",
        "    for dot in data:\n",
        "        x,y = dot\n",
        "       # print(x,y)\n",
        "        ax.scatter(x, y, alpha=0.8, c=color)\n",
        "\n",
        "ax.scatter(np.array(centers)[:,0], np.array(centers)[:,1], s=100, marker='*',c=\"orange\")\n",
        "\n",
        "plt.show()\n",
        "# centroid = {1, 1001, 1029, 343}\n",
        "# cluster = [array([-2.7694973,  2.6778586]), array([-2., 14.]), array([-0.4032861, -5.4479696]), array([4.6102579, 0.6921337])]\n",
        "# 4-center cost: 3.481123664686921\n",
        "# 4-mean cost: 1.600536590805209"
      ],
      "metadata": {
        "colab": {
          "base_uri": "https://localhost:8080/",
          "height": 386
        },
        "id": "N62YNnTGNYUd",
        "outputId": "71679a09-456b-4552-84ca-2cfa110292a1"
      },
      "execution_count": null,
      "outputs": [
        {
          "output_type": "stream",
          "name": "stdout",
          "text": [
            "i 1029\n",
            "i 1001\n",
            "i 343\n",
            "is {1, 1001, 1029, 343}\n",
            "4-center cost: 3.481123664686921\n",
            "4-mean cost: 1.600536590805209\n",
            "[array([-2.7694973,  2.6778586]), array([-2., 14.]), array([-0.4032861, -5.4479696]), array([4.6102579, 0.6921337])]\n"
          ]
        },
        {
          "output_type": "display_data",
          "data": {
            "text/plain": [
              "<Figure size 432x288 with 1 Axes>"
            ],
            "image/png": "[encoded data removed]"
          },
          "metadata": {
            "needs_background": "light"
          }
        }
      ]
    },
    {
      "cell_type": "code",
      "source": [
        "c3_lst = []\n",
        "for i in c3:\n",
        "  c3_lst.append([i[1], i[2], i[3], i[4], i[5]])\n",
        "data = np.array(c3_lst)\n",
        "data"
      ],
      "metadata": {
        "colab": {
          "base_uri": "https://localhost:8080/"
        },
        "id": "UQYaFoBtRbiY",
        "outputId": "e5243827-fb31-4569-944d-541224a106b1"
      },
      "execution_count": null,
      "outputs": [
        {
          "output_type": "execute_result",
          "data": {
            "text/plain": [
              "array([[ 1.0578144,  0.0568892, -0.1392866,  0.0674745, -0.07317  ],\n",
              "       [ 1.0255134,  0.2587759,  0.0507179, -0.1396585,  0.0045476],\n",
              "       [ 0.9816412,  0.1065561, -0.0604434, -0.0472573,  0.1929483],\n",
              "       ...,\n",
              "       [ 0.9521999,  2.0844574,  0.0530692,  0.0721139,  0.9859486],\n",
              "       [ 0.9719369,  2.0754205, -0.0310972, -0.0453573,  1.0402399],\n",
              "       [ 0.8912047,  2.0552269, -0.0884621, -0.1595513,  0.9784692]])"
            ]
          },
          "metadata": {},
          "execution_count": 113
        }
      ]
    },
    {
      "cell_type": "code",
      "source": [],
      "metadata": {
        "colab": {
          "base_uri": "https://localhost:8080/"
        },
        "id": "BbxsodlkQ3dN",
        "outputId": "9d5fe066-64d9-4570-816f-434a58733508"
      },
      "execution_count": null,
      "outputs": [
        {
          "output_type": "execute_result",
          "data": {
            "text/plain": [
              "[[1.0578144, 0.0568892, -0.1392866, 0.0674745, -0.07317],\n",
              " [1.0255134, 0.2587759, 0.0507179, -0.1396585, 0.0045476],\n",
              " [0.9816412, 0.1065561, -0.0604434, -0.0472573, 0.1929483],\n",
              " [0.9634015, -0.2439366, -0.1054767, -0.1222237, -0.1736821],\n",
              " [1.0194926, -0.1073145, -0.2288718, -0.0376305, 0.0697215]]"
            ]
          },
          "metadata": {},
          "execution_count": 116
        }
      ]
    },
    {
      "cell_type": "code",
      "source": [
        "centers = [data[0], data[1], data[2], data[3], data[4]]\n",
        "print(\"c\", centers)\n",
        "#centers = [data[0], data[1039], data[646]]\n",
        "centerCost = []\n",
        "meanCost = []\n",
        "iter = 0\n",
        "while iter < 100:\n",
        "\n",
        "    cluster1 = []\n",
        "    cluster2 = []\n",
        "    cluster3 = []\n",
        "    cluster4 = []\n",
        "    phi = np.zeros(len(data))\n",
        "    for i in range(len(data)):\n",
        "        dist1 = np.sqrt((centers[0][0] - data[i][0]) ** 2 + (centers[0][1] - data[i][1]) ** 2)\n",
        "        dist2 = np.sqrt((centers[1][0] - data[i][0]) ** 2 + (centers[1][1] - data[i][1]) ** 2)\n",
        "        dist3 = np.sqrt((centers[2][0] - data[i][0]) ** 2 + (centers[2][1] - data[i][1]) ** 2)\n",
        "        dist4 = np.sqrt((centers[3][0] - data[i][0]) ** 2 + (centers[3][1] - data[i][1]) ** 2)\n",
        "        min_dist = min(dist1,dist2,dist3,dist4)\n",
        "        if min_dist == dist1:\n",
        "            phi[i] = 0\n",
        "            cluster1.append(data[i])\n",
        "        elif min_dist == dist2:\n",
        "            phi[i] = 1\n",
        "            cluster2.append(data[i])\n",
        "        elif min_dist == dist3:\n",
        "            phi[i] = 2\n",
        "            cluster3.append(data[i])\n",
        "        elif min_dist == dist4:\n",
        "            phi[i] = 3\n",
        "            cluster4.append(data[i])\n",
        "\n",
        "    centers[0] = np.mean(cluster1, axis=0)\n",
        "    centers[1] = np.mean(cluster2, axis=0)\n",
        "    centers[2] = np.mean(cluster3, axis=0)\n",
        "    centers[3] = np.mean(cluster4, axis=0)\n",
        "    print(\"phi\",phi)\n",
        "    # print(centers)\n",
        "    iter += 1\n",
        "\n",
        "\n",
        "\n",
        "clusters = [cluster1,cluster2,cluster3,cluster4]\n",
        "\n",
        "meanCost = 0\n",
        "for i in range(len(clusters)):\n",
        "\n",
        "    center = centers[i]\n",
        "    for j in range(len(clusters[i])):\n",
        "        dot = clusters[i][j]\n",
        "        meanCost += ((dot[0]-center[0])**2 + (dot[1]-center[1])**2)/len(data)\n",
        "\n",
        "meanCost = np.sqrt(meanCost)\n",
        "print()\n",
        "print(\"The 4-mean cost of Lloyd's k-means clustering: \" + str(meanCost))\n",
        "\n",
        "colors = [\"green\", \"red\", \"blue\", \"cyan\"]\n",
        "\n",
        "fig = plt.figure()\n",
        "ax = fig.add_subplot()\n",
        "for data, color in zip(clusters, colors):\n",
        "    print(data)\n",
        "    for dot in data:\n",
        "        x,y = dot\n",
        "       # print(x,y)\n",
        "        ax.scatter(x, y, alpha=0.8, c=color)\n",
        "\n",
        "#plt.title(\"Lloyd's k-means clustering with Gonzalez initialized\")\n",
        "plt.show()"
      ],
      "metadata": {
        "id": "q430koF6Q1zP"
      },
      "execution_count": null,
      "outputs": []
    },
    {
      "cell_type": "code",
      "source": [
        "file = open('/content/drive/MyDrive/Spring2023/CS4140/C2.txt',\"r\")\n",
        "lines = file.readlines()\n",
        "data = []\n",
        "\n",
        "for line in lines:\n",
        "    data.append([float(line.split()[1]),float(line.split()[2])])\n",
        "data = np.array(data)\n",
        "centerCost = np.zeros(50)\n",
        "meanCost = np.zeros(50)\n",
        "allCenters = []\n",
        "Gonzalez_phi = np.loadtxt('GoneIndex.txt')\n",
        "Gindex1 = np.where(Gonzalez_phi == 0)\n",
        "Gindex2 = np.where(Gonzalez_phi == 1)\n",
        "Gindex3 = np.where(Gonzalez_phi == 2)\n",
        "Gindex4 = np.where(Gonzalez_phi == 3)\n",
        "Gindex_sum = set([np.sum(Gindex1), np.sum(Gindex2), np.sum(Gindex3), np.sum(Gindex4)])\n",
        "print(Gindex1)\n",
        "count = 0\n",
        "center_lst=[]\n",
        "\n",
        "for iter in range(50):\n",
        "    #x = np.random.randint(len(data))\n",
        "\n",
        "    centers = [data[0]]\n",
        "\n",
        "    i = 0\n",
        "    phi = np.zeros(len(data))\n",
        "    #index_set = set([1])\n",
        "\n",
        "\n",
        "    while i < 3:\n",
        "        #max_dist = 0\n",
        "        prob_distribution = []\n",
        "        for j in range(len(data)):\n",
        "            x = int(phi[j])\n",
        "            #print(centers[x][0])\n",
        "            dist = (centers[x][0]-data[j][0])**2+(centers[x][1]-data[j][1])**2\n",
        "            prob_distribution.append(dist)\n",
        "\n",
        "        prob_distribution = np.array(prob_distribution) / np.sum(prob_distribution)\n",
        "        centers.append(data[np.random.choice(range(len(data)), p=prob_distribution)])\n",
        "        \n",
        "        i += 1\n",
        "\n",
        "        for k in range(len(data)):\n",
        "            x = int(phi[k])\n",
        "            dist_x = np.sqrt((centers[x][0] - data[k][0]) ** 2 + (centers[x][1] - data[k][1]) ** 2)\n",
        "            dist_i = np.sqrt((centers[i][0] - data[k][0]) ** 2 + (centers[i][1] - data[k][1]) ** 2)\n",
        "            if (dist_x > dist_i):\n",
        "                phi[k] = i\n",
        "    #print(centers)\n",
        "    center_lst.append(centers)\n",
        "    clusters = [[],[],[],[]]\n",
        "    center_cost = 0\n",
        "    mean_cost = 0\n",
        "    for i in range(len(data)):\n",
        "        x = int(phi[i])\n",
        "        clusters[x].append(data[i])\n",
        "        dist = np.sqrt((centers[x][0] - data[i][0]) ** 2 + (centers[x][1] - data[i][1]) ** 2)\n",
        "        mean_cost += dist**2/len(data)\n",
        "        if dist > center_cost:\n",
        "            center_cost = dist\n",
        "\n",
        "    mean_cost = np.sqrt(mean_cost)\n",
        "\n",
        "    centerCost[iter] = center_cost\n",
        "    meanCost[iter] = mean_cost\n",
        "    #print(phi)\n",
        "    #if np.sum(phi) == np.sum(Gonzalez_phi):\n",
        "    index1 = np.where(phi == 0)\n",
        "    index2 = np.where(phi == 1)\n",
        "    index3 = np.where(phi == 2)\n",
        "    index4 = np.where(phi == 3)\n",
        "    index_sum = set([np.sum(index1), np.sum(index2), np.sum(index3), np.sum(index4)])\n",
        "    #print(index_sum)\n",
        "    if index_sum == Gindex_sum:\n",
        "        #print(index_sum,Gindex_sum)\n",
        "        #print(phi)\n",
        "        count += 1\n",
        "\n",
        "print(\"The standard deviation of center cost: \"+ str(np.std(centerCost)))\n",
        "print(\"The standard deviation of mean cost: \" + str(np.std(meanCost)))\n",
        "print(\"The fraction of subsets similar to Gonzalez: \"+str(count/len(meanCost)))\n",
        "#print(len(meanCost))\n",
        "fig, ax = plt.subplots(figsize=(8, 6))\n",
        "# n, bins, patches = ax.hist(meanCost, 100, density=True, histtype='step', cumulative=True)\n",
        "x = np.asarray(sorted(meanCost))\n",
        "y = np.arange(len(meanCost))/float(len(meanCost))\n",
        "plt.plot(x,y)\n",
        "plt.show()\n",
        "# The standard deviation of center cost: 2.725887784911488\n",
        "# The standard deviation of mean cost: 0.10766825889070293\n",
        "# The fraction of subsets similar to Gonzalez: 0.14 2bii\n",
        "# 2c(i) The fraction of subsets similar to 4-means cost from Lloyds Algorithm with C initially with points indexed {1,2,3,4}: 0.8541578144032685 \n",
        "# 2c(ii) The fraction of subsets similar to 4-means cost from Lloyds Algorithm with C initially as the output of Gonzalez above: 0.8775919061122385 \n",
        "0.8775919061122385"
      ],
      "metadata": {
        "colab": {
          "base_uri": "https://localhost:8080/",
          "height": 428
        },
        "id": "aNMflKHmUbBo",
        "outputId": "4caeabb5-81f2-4deb-dd69-f4884d202377"
      },
      "execution_count": null,
      "outputs": [
        {
          "output_type": "stream",
          "name": "stdout",
          "text": [
            "The standard deviation of center cost: 1.9384115493657765\n",
            "The standard deviation of mean cost: 0.11788793965421729\n",
            "The fraction of subsets similar to Gonzalez: 0.06\n"
          ]
        },
        {
          "output_type": "display_data",
          "data": {
            "text/plain": [
              "<Figure size 576x432 with 1 Axes>"
            ],
            "image/png": "[encoded data removed]"
          },
          "metadata": {
            "needs_background": "light"
          }
        }
      ]
    },
    {
      "cell_type": "code",
      "source": [
        "file = open('/content/drive/MyDrive/Spring2023/CS4140/C2.txt',\"r\")\n",
        "lines = file.readlines()\n",
        "data = []\n",
        "\n",
        "for line in lines:\n",
        "    data.append([float(line.split()[1]),float(line.split()[2])])\n",
        "data = np.array(data)\n",
        "data\n",
        "centers = [data[0]]\n",
        "\n",
        "i = 0\n",
        "phi = np.zeros(len(data))\n",
        "index_set = set([1])\n",
        "\n",
        "while i < 3:\n",
        "\n",
        "  max_dist = 0\n",
        "  for j in range(len(data)):\n",
        "      x = int(phi[j])\n",
        "      #print(centers[x][0])\n",
        "      dist = np.sqrt((centers[x][0]-data[j][0])**2+(centers[x][1]-data[j][1])**2)\n",
        "      if dist > max_dist:\n",
        "          max_dist = dist\n",
        "          center = data[j]\n",
        "          index = j+1\n",
        "  i += 1\n",
        "  print(index)\n",
        "  index_set.add(index)\n",
        "  centers.append(center)\n",
        "\n",
        "  for k in range(len(data)):\n",
        "      x = int(phi[k])\n",
        "      dist_x = np.sqrt((centers[x][0] - data[k][0]) ** 2 + (centers[x][1] - data[k][1]) ** 2)\n",
        "      dist_i = np.sqrt((centers[i][0] - data[k][0]) ** 2 + (centers[i][1] - data[k][1]) ** 2)\n",
        "      if (dist_x > dist_i):\n",
        "          phi[k] = i\n",
        "print(index_set)\n",
        "clusters = [[],[],[],[]]\n",
        "center_cost = 0\n",
        "mean_cost = 0\n",
        "\n",
        "for i in range(len(data)):\n",
        "    x = int(phi[i])\n",
        "    clusters[x].append(data[i])\n",
        "    dist = np.sqrt((centers[x][0] - data[i][0]) ** 2 + (centers[x][1] - data[i][1]) ** 2)\n",
        "    mean_cost += dist**2/len(data)\n",
        "    if dist > center_cost:\n",
        "        center_cost = dist\n",
        "\n",
        "mean_cost = np.sqrt(mean_cost)\n",
        "np.savetxt(\"GoneIndex.txt\", phi)\n",
        "print(\"4-center cost: \"+str(center_cost))\n",
        "print(\"4-mean cost: \"+str(mean_cost))\n",
        "print(centers)\n",
        "\n",
        "\n",
        "colors = [\"red\", \"green\", \"blue\", \"purple\"]\n",
        "\n",
        "fig = plt.figure()\n",
        "ax = fig.add_subplot()\n",
        "for data, color in zip(clusters, colors):\n",
        "    #print(data)\n",
        "    for dot in data:\n",
        "        x,y = dot\n",
        "       # print(x,y)\n",
        "        ax.scatter(x, y, alpha=0.8, c=color)\n",
        "\n",
        "plt.show()\n",
        "# centroids = {1, 1001, 1029, 343}\n",
        "# 4-center cost: 3.481123664686921\n",
        "# 4-mean cost: 1.600536590805209\n",
        "# [array([-2.7694973,  2.6778586]), array([-2., 14.]), array([-0.4032861, -5.4479696]), array([4.6102579, 0.6921337])]"
      ],
      "metadata": {
        "colab": {
          "base_uri": "https://localhost:8080/",
          "height": 390
        },
        "id": "8PzPB9R_7Nh4",
        "outputId": "e047fa0d-74d2-469a-b28b-044382511f2c"
      },
      "execution_count": null,
      "outputs": [
        {
          "output_type": "stream",
          "name": "stdout",
          "text": [
            "1029\n",
            "1001\n",
            "343\n",
            "{1, 1001, 1029, 343}\n",
            "4-center cost: 3.481123664686921\n",
            "4-mean cost: 1.600536590805209\n",
            "[array([-2.7694973,  2.6778586]), array([-2., 14.]), array([-0.4032861, -5.4479696]), array([4.6102579, 0.6921337])]\n"
          ]
        },
        {
          "output_type": "display_data",
          "data": {
            "text/plain": [
              "<Figure size 432x288 with 1 Axes>"
            ],
            "image/png": "[encoded data removed]"
          },
          "metadata": {
            "needs_background": "light"
          }
        }
      ]
    },
    {
      "cell_type": "code",
      "source": [
        "center_lst"
      ],
      "metadata": {
        "id": "n86vz5eTvp90"
      },
      "execution_count": null,
      "outputs": []
    },
    {
      "cell_type": "code",
      "source": [
        "# centroid = {1, 1001, 1029, 343}\n",
        "import numpy as np\n",
        "from sklearn.cluster import KMeans\n",
        "import matplotlib.pyplot as plt\n",
        "\n",
        "# Generate some sample data\n",
        "# np.random.seed(0)\n",
        "# X = np.random.randn(100, 2)\n",
        "\n",
        "file = open('/content/drive/MyDrive/Spring2023/CS4140/C2.txt',\"r\")\n",
        "lines = file.readlines()\n",
        "data = []\n",
        "\n",
        "for line in lines:\n",
        "    data.append([float(line.split()[1]),float(line.split()[2])])\n",
        "data = np.array(data)\n",
        "\n",
        "# Initialize the KMeans algorithm with the \"random\" initialization method and the initial centroid values\n",
        "init_centroids = np.array([data[0], data[1000], data[1028], data[342]])\n",
        "kmeans = KMeans(n_clusters=4, init=init_centroids, algorithm='auto', random_state=0)\n",
        "\n",
        "# Fit the KMeans algorithm to the data\n",
        "kmeans.fit(data)\n",
        "\n",
        "# Get the cluster labels and centroids for each data point\n",
        "labels = kmeans.labels_\n",
        "centroids = kmeans.cluster_centers_\n",
        "\n",
        "# Plot the data points and cluster centroids\n",
        "fig, ax = plt.subplots(figsize=(8, 6))\n",
        "ax.scatter(data[:, 0], data[:, 1], c=labels)\n",
        "ax.scatter(centroids[:, 0], centroids[:, 1], marker='*', s=200, c='#d62728')\n",
        "ax.set_xlabel('x')\n",
        "ax.set_ylabel('y')\n",
        "ax.set_title('Lloyd’s algorithm for k-means clustering with Gonzales output in 2A(i)')\n",
        "plt.show()"
      ],
      "metadata": {
        "colab": {
          "base_uri": "https://localhost:8080/",
          "height": 460
        },
        "id": "lzzeo_U6sKm8",
        "outputId": "dc4be19e-b18e-40c0-ac6c-ff724b9b9e23"
      },
      "execution_count": null,
      "outputs": [
        {
          "output_type": "stream",
          "name": "stderr",
          "text": [
            "/usr/local/lib/python3.8/dist-packages/sklearn/cluster/_kmeans.py:1146: RuntimeWarning: Explicit initial center position passed: performing only one init in KMeans instead of n_init=10.\n",
            "  self._check_params(X)\n"
          ]
        },
        {
          "output_type": "display_data",
          "data": {
            "text/plain": [
              "<Figure size 576x432 with 1 Axes>"
            ],
            "image/png": "[encoded data removed]"
          },
          "metadata": {
            "needs_background": "light"
          }
        }
      ]
    },
    {
      "cell_type": "code",
      "source": [
        "center_lst"
      ],
      "metadata": {
        "id": "gn31lRuStw90"
      },
      "execution_count": null,
      "outputs": []
    },
    {
      "cell_type": "code",
      "source": [
        "import numpy as np\n",
        "from sklearn.cluster import KMeans\n",
        "import matplotlib.pyplot as plt\n",
        "\n",
        "# Generate some sample data\n",
        "# np.random.seed(0)\n",
        "# X = np.random.randn(100, 2)\n",
        "\n",
        "file = open('/content/drive/MyDrive/Spring2023/CS4140/C2.txt',\"r\")\n",
        "lines = file.readlines()\n",
        "data = []\n",
        "\n",
        "for line in lines:\n",
        "    data.append([float(line.split()[1]),float(line.split()[2])])\n",
        "data = np.array(data)\n",
        "print(data)\n",
        "\n",
        "# Initialize the KMeans algorithm with the \"random\" initialization method and the initial centroid values\n",
        "init_centroids = np.array(center_lst)\n",
        "kmeans = KMeans(n_clusters=4, init=init_centroids, algorithm='auto', random_state=0)\n",
        "\n",
        "# Fit the KMeans algorithm to the data\n",
        "kmeans.fit(data)\n",
        "\n",
        "# Get the cluster labels and centroids for each data point\n",
        "labels = kmeans.labels_\n",
        "centroids = kmeans.cluster_centers_\n",
        "\n",
        "# Plot the data points and cluster centroids\n",
        "fig, ax = plt.subplots(figsize=(8, 6))\n",
        "ax.scatter(data[:, 0], data[:, 1], c=labels)\n",
        "ax.scatter(centroids[:, 0], centroids[:, 1], marker='*', s=200, c='#d62728')\n",
        "ax.set_xlabel('x')\n",
        "ax.set_ylabel('y')\n",
        "ax.set_title('Lloyd’s algorithm for k-means clustering with each run of k-means++ in 2b(i)')\n",
        "plt.show()"
      ],
      "metadata": {
        "colab": {
          "base_uri": "https://localhost:8080/",
          "height": 588
        },
        "id": "Q6loQP46thfi",
        "outputId": "712f4a2d-124d-4de0-ac6b-227bcb65aaef"
      },
      "execution_count": null,
      "outputs": [
        {
          "output_type": "stream",
          "name": "stdout",
          "text": [
            "[[-2.7694973  2.6778586]\n",
            " [-2.7039693  2.5350218]\n",
            " [-2.4496287  3.7726618]\n",
            " ...\n",
            " [-0.9127945 -4.1640719]\n",
            " [-1.6710883 -4.8366017]\n",
            " [-2.        14.       ]]\n"
          ]
        },
        {
          "output_type": "stream",
          "name": "stderr",
          "text": [
            "/usr/local/lib/python3.8/dist-packages/sklearn/cluster/_kmeans.py:1146: RuntimeWarning: Explicit initial center position passed: performing only one init in KMeans instead of n_init=10.\n",
            "  self._check_params(X)\n"
          ]
        },
        {
          "output_type": "error",
          "ename": "ValueError",
          "evalue": "ignored",
          "traceback": [
            "\u001b[0;31m---------------------------------------------------------------------------\u001b[0m",
            "\u001b[0;31mValueError\u001b[0m                                Traceback (most recent call last)",
            "\u001b[0;32m<ipython-input-221-9d34e2b12163>\u001b[0m in \u001b[0;36m<module>\u001b[0;34m\u001b[0m\n\u001b[1;32m     21\u001b[0m \u001b[0;34m\u001b[0m\u001b[0m\n\u001b[1;32m     22\u001b[0m \u001b[0;31m# Fit the KMeans algorithm to the data\u001b[0m\u001b[0;34m\u001b[0m\u001b[0;34m\u001b[0m\u001b[0;34m\u001b[0m\u001b[0m\n\u001b[0;32m---> 23\u001b[0;31m \u001b[0mkmeans\u001b[0m\u001b[0;34m.\u001b[0m\u001b[0mfit\u001b[0m\u001b[0;34m(\u001b[0m\u001b[0mdata\u001b[0m\u001b[0;34m)\u001b[0m\u001b[0;34m\u001b[0m\u001b[0;34m\u001b[0m\u001b[0m\n\u001b[0m\u001b[1;32m     24\u001b[0m \u001b[0;34m\u001b[0m\u001b[0m\n\u001b[1;32m     25\u001b[0m \u001b[0;31m# Get the cluster labels and centroids for each data point\u001b[0m\u001b[0;34m\u001b[0m\u001b[0;34m\u001b[0m\u001b[0;34m\u001b[0m\u001b[0m\n",
            "\u001b[0;32m/usr/local/lib/python3.8/dist-packages/sklearn/cluster/_kmeans.py\u001b[0m in \u001b[0;36mfit\u001b[0;34m(self, X, y, sample_weight)\u001b[0m\n\u001b[1;32m   1152\u001b[0m         \u001b[0minit\u001b[0m \u001b[0;34m=\u001b[0m \u001b[0mself\u001b[0m\u001b[0;34m.\u001b[0m\u001b[0minit\u001b[0m\u001b[0;34m\u001b[0m\u001b[0;34m\u001b[0m\u001b[0m\n\u001b[1;32m   1153\u001b[0m         \u001b[0;32mif\u001b[0m \u001b[0mhasattr\u001b[0m\u001b[0;34m(\u001b[0m\u001b[0minit\u001b[0m\u001b[0;34m,\u001b[0m \u001b[0;34m\"__array__\"\u001b[0m\u001b[0;34m)\u001b[0m\u001b[0;34m:\u001b[0m\u001b[0;34m\u001b[0m\u001b[0;34m\u001b[0m\u001b[0m\n\u001b[0;32m-> 1154\u001b[0;31m             \u001b[0minit\u001b[0m \u001b[0;34m=\u001b[0m \u001b[0mcheck_array\u001b[0m\u001b[0;34m(\u001b[0m\u001b[0minit\u001b[0m\u001b[0;34m,\u001b[0m \u001b[0mdtype\u001b[0m\u001b[0;34m=\u001b[0m\u001b[0mX\u001b[0m\u001b[0;34m.\u001b[0m\u001b[0mdtype\u001b[0m\u001b[0;34m,\u001b[0m \u001b[0mcopy\u001b[0m\u001b[0;34m=\u001b[0m\u001b[0;32mTrue\u001b[0m\u001b[0;34m,\u001b[0m \u001b[0morder\u001b[0m\u001b[0;34m=\u001b[0m\u001b[0;34m\"C\"\u001b[0m\u001b[0;34m)\u001b[0m\u001b[0;34m\u001b[0m\u001b[0;34m\u001b[0m\u001b[0m\n\u001b[0m\u001b[1;32m   1155\u001b[0m             \u001b[0mself\u001b[0m\u001b[0;34m.\u001b[0m\u001b[0m_validate_center_shape\u001b[0m\u001b[0;34m(\u001b[0m\u001b[0mX\u001b[0m\u001b[0;34m,\u001b[0m \u001b[0minit\u001b[0m\u001b[0;34m)\u001b[0m\u001b[0;34m\u001b[0m\u001b[0;34m\u001b[0m\u001b[0m\n\u001b[1;32m   1156\u001b[0m \u001b[0;34m\u001b[0m\u001b[0m\n",
            "\u001b[0;32m/usr/local/lib/python3.8/dist-packages/sklearn/utils/validation.py\u001b[0m in \u001b[0;36mcheck_array\u001b[0;34m(array, accept_sparse, accept_large_sparse, dtype, order, copy, force_all_finite, ensure_2d, allow_nd, ensure_min_samples, ensure_min_features, estimator)\u001b[0m\n\u001b[1;32m    792\u001b[0m                 ) from e\n\u001b[1;32m    793\u001b[0m         \u001b[0;32mif\u001b[0m \u001b[0;32mnot\u001b[0m \u001b[0mallow_nd\u001b[0m \u001b[0;32mand\u001b[0m \u001b[0marray\u001b[0m\u001b[0;34m.\u001b[0m\u001b[0mndim\u001b[0m \u001b[0;34m>=\u001b[0m \u001b[0;36m3\u001b[0m\u001b[0;34m:\u001b[0m\u001b[0;34m\u001b[0m\u001b[0;34m\u001b[0m\u001b[0m\n\u001b[0;32m--> 794\u001b[0;31m             raise ValueError(\n\u001b[0m\u001b[1;32m    795\u001b[0m                 \u001b[0;34m\"Found array with dim %d. %s expected <= 2.\"\u001b[0m\u001b[0;34m\u001b[0m\u001b[0;34m\u001b[0m\u001b[0m\n\u001b[1;32m    796\u001b[0m                 \u001b[0;34m%\u001b[0m \u001b[0;34m(\u001b[0m\u001b[0marray\u001b[0m\u001b[0;34m.\u001b[0m\u001b[0mndim\u001b[0m\u001b[0;34m,\u001b[0m \u001b[0mestimator_name\u001b[0m\u001b[0;34m)\u001b[0m\u001b[0;34m\u001b[0m\u001b[0;34m\u001b[0m\u001b[0m\n",
            "\u001b[0;31mValueError\u001b[0m: Found array with dim 3. Estimator expected <= 2."
          ]
        }
      ]
    },
    {
      "cell_type": "code",
      "source": [
        "import numpy as np\n",
        "from sklearn.cluster import KMeans\n",
        "import matplotlib.pyplot as plt\n",
        "\n",
        "# Generate some sample data\n",
        "# np.random.seed(0)\n",
        "# X = np.random.randn(100, 2)\n",
        "\n",
        "file = open('/content/drive/MyDrive/Spring2023/CS4140/C2.txt',\"r\")\n",
        "lines = file.readlines()\n",
        "data = []\n",
        "\n",
        "for line in lines:\n",
        "    data.append([float(line.split()[1]),float(line.split()[2])])\n",
        "data = np.array(data)\n",
        "\n",
        "# Initialize the KMeans algorithm with the \"random\" initialization method and the initial centroid values\n",
        "init_centroids = np.array([data[0], data[1], data[2], data[3]])\n",
        "kmeans = KMeans(n_clusters=4, init=init_centroids, algorithm='auto', random_state=0)\n",
        "\n",
        "# Fit the KMeans algorithm to the data\n",
        "kmeans.fit(data)\n",
        "\n",
        "# Get the cluster labels and centroids for each data point\n",
        "labels = kmeans.labels_\n",
        "centroids = kmeans.cluster_centers_\n",
        "\n",
        "# Plot the data points and cluster centroids\n",
        "fig, ax = plt.subplots(figsize=(8, 6))\n",
        "ax.scatter(data[:, 0], data[:, 1], c=labels)\n",
        "ax.scatter(centroids[:, 0], centroids[:, 1], marker='*', s=200, c='#d62728')\n",
        "ax.set_xlabel('x')\n",
        "ax.set_ylabel('y')\n",
        "ax.set_title('Lloyd’s algorithm for k-means clustering with points indexed {1,2,3,4}')\n",
        "plt.show()"
      ],
      "metadata": {
        "colab": {
          "base_uri": "https://localhost:8080/",
          "height": 460
        },
        "id": "vnX6YT14pW5R",
        "outputId": "77709d18-2308-440d-9c1e-80d94f063b2f"
      },
      "execution_count": null,
      "outputs": [
        {
          "output_type": "stream",
          "name": "stderr",
          "text": [
            "/usr/local/lib/python3.8/dist-packages/sklearn/cluster/_kmeans.py:1146: RuntimeWarning: Explicit initial center position passed: performing only one init in KMeans instead of n_init=10.\n",
            "  self._check_params(X)\n"
          ]
        },
        {
          "output_type": "display_data",
          "data": {
            "text/plain": [
              "<Figure size 576x432 with 1 Axes>"
            ],
            "image/png": "[encoded data removed]"
          },
          "metadata": {
            "needs_background": "light"
          }
        }
      ]
    },
    {
      "cell_type": "code",
      "source": [
        "import numpy as np\n",
        "import matplotlib.pyplot as plt\n",
        "from sklearn.cluster import KMeans\n",
        "\n",
        "# Load your dataset and preprocess it as needed\n",
        "c2_lst = []\n",
        "for i in c2:\n",
        "  c2_lst.append(i[1:])\n",
        "X = np.array(c2_lst)\n",
        "\n",
        "print(X[0])\n",
        "\n",
        "# Choose the number of clusters k=4\n",
        "k = 4\n",
        "\n",
        "# Initialize the centroids using k-means++\n",
        "kmeans = KMeans(n_clusters=k, init='k-means++', algorithm='lloyd')\n",
        "\n",
        "# Compute the 4-means cost and center cost for multiple trials\n",
        "n_trials = 20\n",
        "costs = np.zeros(n_trials)\n",
        "center_costs = np.zeros(n_trials)\n",
        "for i in range(n_trials):\n",
        "    # Run k-means++ with a different random seed each time\n",
        "    kmeans.fit(X)\n",
        "    \n",
        "    # Compute the 4-means cost\n",
        "    labels = kmeans.labels_\n",
        "    centroids = kmeans.cluster_centers_\n",
        "    dists = np.sum((X[i] - centroids[labels])**2, axis=1)\n",
        "    cost = np.sum(dists)\n",
        "    costs[i] = cost\n",
        "    \n",
        "    # Compute the center cost\n",
        "    center = np.mean(centroids, axis=0)\n",
        "    center_dists = np.sum((centroids - center)**2, axis=1)\n",
        "    center_cost = np.sum(center_dists)\n",
        "    center_costs[i] = center_cost\n",
        "\n",
        "# Compute the mean and standard deviation of the costs across the trials\n",
        "mean_cost = np.mean(costs)\n",
        "std_cost = np.std(costs)\n",
        "mean_center_cost = np.mean(center_costs)\n",
        "std_center_cost = np.std(center_costs)\n",
        "print('4-means cost: mean = {:.2f}, std = {:.2f}'.format(mean_cost, std_cost))\n",
        "print('Center cost: mean = {:.2f}, std = {:.2f}'.format(mean_center_cost, std_center_cost))\n",
        "\n",
        "# Sort the 4-means costs in ascending order\n",
        "sorted_costs = np.sort(costs)\n",
        "\n",
        "# Compute the empirical CDF of the 4-means costs\n",
        "prob = np.arange(1, n_trials+1) / n_trials\n",
        "empirical_cdf = np.cumsum(np.ones_like(sorted_costs)) / n_trials\n",
        "\n",
        "# Plot the CDF\n",
        "plt.plot(sorted_costs, empirical_cdf)\n",
        "plt.xlabel('4-means cost')\n",
        "plt.ylabel('Cumulative probability')\n",
        "plt.show()\n",
        "\n",
        "# 4-means cost: mean = 2068.17, std = 184.52\n",
        "# Center cost: mean = 5.52, std = 0.18"
      ],
      "metadata": {
        "colab": {
          "base_uri": "https://localhost:8080/",
          "height": 407
        },
        "id": "QR2pd9cdZ8e9",
        "outputId": "352be5bc-e1cc-4f23-829f-8bd8dc394001"
      },
      "execution_count": null,
      "outputs": [
        {
          "output_type": "stream",
          "name": "stdout",
          "text": [
            "[-2.7694973  2.6778586]\n"
          ]
        },
        {
          "output_type": "error",
          "ename": "ValueError",
          "evalue": "ignored",
          "traceback": [
            "\u001b[0;31m---------------------------------------------------------------------------\u001b[0m",
            "\u001b[0;31mValueError\u001b[0m                                Traceback (most recent call last)",
            "\u001b[0;32m<ipython-input-158-b9f9f52484b5>\u001b[0m in \u001b[0;36m<module>\u001b[0;34m\u001b[0m\n\u001b[1;32m     23\u001b[0m \u001b[0;32mfor\u001b[0m \u001b[0mi\u001b[0m \u001b[0;32min\u001b[0m \u001b[0mrange\u001b[0m\u001b[0;34m(\u001b[0m\u001b[0mn_trials\u001b[0m\u001b[0;34m)\u001b[0m\u001b[0;34m:\u001b[0m\u001b[0;34m\u001b[0m\u001b[0;34m\u001b[0m\u001b[0m\n\u001b[1;32m     24\u001b[0m     \u001b[0;31m# Run k-means++ with a different random seed each time\u001b[0m\u001b[0;34m\u001b[0m\u001b[0;34m\u001b[0m\u001b[0;34m\u001b[0m\u001b[0m\n\u001b[0;32m---> 25\u001b[0;31m     \u001b[0mkmeans\u001b[0m\u001b[0;34m.\u001b[0m\u001b[0mfit\u001b[0m\u001b[0;34m(\u001b[0m\u001b[0mX\u001b[0m\u001b[0;34m)\u001b[0m\u001b[0;34m\u001b[0m\u001b[0;34m\u001b[0m\u001b[0m\n\u001b[0m\u001b[1;32m     26\u001b[0m \u001b[0;34m\u001b[0m\u001b[0m\n\u001b[1;32m     27\u001b[0m     \u001b[0;31m# Compute the 4-means cost\u001b[0m\u001b[0;34m\u001b[0m\u001b[0;34m\u001b[0m\u001b[0;34m\u001b[0m\u001b[0m\n",
            "\u001b[0;32m/usr/local/lib/python3.8/dist-packages/sklearn/cluster/_kmeans.py\u001b[0m in \u001b[0;36mfit\u001b[0;34m(self, X, y, sample_weight)\u001b[0m\n\u001b[1;32m   1144\u001b[0m         )\n\u001b[1;32m   1145\u001b[0m \u001b[0;34m\u001b[0m\u001b[0m\n\u001b[0;32m-> 1146\u001b[0;31m         \u001b[0mself\u001b[0m\u001b[0;34m.\u001b[0m\u001b[0m_check_params\u001b[0m\u001b[0;34m(\u001b[0m\u001b[0mX\u001b[0m\u001b[0;34m)\u001b[0m\u001b[0;34m\u001b[0m\u001b[0;34m\u001b[0m\u001b[0m\n\u001b[0m\u001b[1;32m   1147\u001b[0m         \u001b[0mrandom_state\u001b[0m \u001b[0;34m=\u001b[0m \u001b[0mcheck_random_state\u001b[0m\u001b[0;34m(\u001b[0m\u001b[0mself\u001b[0m\u001b[0;34m.\u001b[0m\u001b[0mrandom_state\u001b[0m\u001b[0;34m)\u001b[0m\u001b[0;34m\u001b[0m\u001b[0;34m\u001b[0m\u001b[0m\n\u001b[1;32m   1148\u001b[0m         \u001b[0msample_weight\u001b[0m \u001b[0;34m=\u001b[0m \u001b[0m_check_sample_weight\u001b[0m\u001b[0;34m(\u001b[0m\u001b[0msample_weight\u001b[0m\u001b[0;34m,\u001b[0m \u001b[0mX\u001b[0m\u001b[0;34m,\u001b[0m \u001b[0mdtype\u001b[0m\u001b[0;34m=\u001b[0m\u001b[0mX\u001b[0m\u001b[0;34m.\u001b[0m\u001b[0mdtype\u001b[0m\u001b[0;34m)\u001b[0m\u001b[0;34m\u001b[0m\u001b[0;34m\u001b[0m\u001b[0m\n",
            "\u001b[0;32m/usr/local/lib/python3.8/dist-packages/sklearn/cluster/_kmeans.py\u001b[0m in \u001b[0;36m_check_params\u001b[0;34m(self, X)\u001b[0m\n\u001b[1;32m    954\u001b[0m         \u001b[0;31m# algorithm\u001b[0m\u001b[0;34m\u001b[0m\u001b[0;34m\u001b[0m\u001b[0;34m\u001b[0m\u001b[0m\n\u001b[1;32m    955\u001b[0m         \u001b[0;32mif\u001b[0m \u001b[0mself\u001b[0m\u001b[0;34m.\u001b[0m\u001b[0malgorithm\u001b[0m \u001b[0;32mnot\u001b[0m \u001b[0;32min\u001b[0m \u001b[0;34m(\u001b[0m\u001b[0;34m\"auto\"\u001b[0m\u001b[0;34m,\u001b[0m \u001b[0;34m\"full\"\u001b[0m\u001b[0;34m,\u001b[0m \u001b[0;34m\"elkan\"\u001b[0m\u001b[0;34m)\u001b[0m\u001b[0;34m:\u001b[0m\u001b[0;34m\u001b[0m\u001b[0;34m\u001b[0m\u001b[0m\n\u001b[0;32m--> 956\u001b[0;31m             raise ValueError(\n\u001b[0m\u001b[1;32m    957\u001b[0m                 \u001b[0;34m\"Algorithm must be 'auto', 'full' or 'elkan', \"\u001b[0m\u001b[0;34m\u001b[0m\u001b[0;34m\u001b[0m\u001b[0m\n\u001b[1;32m    958\u001b[0m                 \u001b[0;34mf\"got {self.algorithm} instead.\"\u001b[0m\u001b[0;34m\u001b[0m\u001b[0;34m\u001b[0m\u001b[0m\n",
            "\u001b[0;31mValueError\u001b[0m: Algorithm must be 'auto', 'full' or 'elkan', got lloyd instead."
          ]
        }
      ]
    }
  ],
  "metadata": {
    "colab": {
      "provenance": []
    },
    "kernelspec": {
      "display_name": "Python 3",
      "name": "python3"
    },
    "language_info": {
      "name": "python"
    }
  },
  "nbformat": 4,
  "nbformat_minor": 0
}